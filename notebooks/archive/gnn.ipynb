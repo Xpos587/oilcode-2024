{
 "cells": [
  {
   "cell_type": "code",
   "execution_count": null,
   "metadata": {},
   "outputs": [],
   "source": [
    "%pip install git+https://github.com/samoturk/mol2vec -q\n",
    "%pip install 'polars[numpy,pandas,pyarrow]' -q\n",
    "%pip install rdkit -q\n",
    "%pip install matplotlib -q\n",
    "%pip install gdown -q\n",
    "%pip install scikit_learn -q\n",
    "%pip install lazypredict_nightly -q\n",
    "%pip install transformers -q\n",
    "%pip install ipywidgets -q\n",
    "%pip install torch_geometric -q\n",
    "\n",
    "!gdown 1CggX5LuLQ2nRA96SgzMYF3m4Ma7kj1ri -O models/model_300dim.pkl"
   ]
  },
  {
   "cell_type": "code",
   "execution_count": null,
   "metadata": {},
   "outputs": [],
   "source": [
    "import pandas as pd\n",
    "import polars as pl\n",
    "\n",
    "import matplotlib.pyplot as plt\n",
    "\n",
    "import numpy as np\n",
    "\n",
    "from typing import Optional\n",
    "\n",
    "from rdkit import Chem, RDLogger\n",
    "from rdkit.Chem import Descriptors, AllChem\n",
    "\n",
    "\n",
    "def read(n: str, **kwargs):\n",
    "    return pl.read_csv(f\"../data/{n}\", **kwargs).to_pandas()\n",
    "\n",
    "\n",
    "data = read(\"smiles/data.csv\")\n",
    "dtf = read(\"params/data.csv\")\n",
    "\n",
    "# ============================================================================ #\n",
    "# Fix gensim error\n",
    "# https://github.com/piskvorky/gensim/commit/ad68ee3f105fc37cf8db333bfb837fe889ff74ac\n",
    "# ============================================================================ #"
   ]
  },
  {
   "cell_type": "code",
   "execution_count": null,
   "metadata": {},
   "outputs": [],
   "source": [
    "df = data.copy()"
   ]
  },
  {
   "cell_type": "code",
   "execution_count": null,
   "metadata": {},
   "outputs": [],
   "source": [
    "dtf.head()"
   ]
  },
  {
   "cell_type": "code",
   "execution_count": null,
   "metadata": {},
   "outputs": [],
   "source": [
    "df.merge(dtf, on=\"smiles\", how=\"right\").head()"
   ]
  },
  {
   "cell_type": "code",
   "execution_count": null,
   "metadata": {},
   "outputs": [],
   "source": [
    "# Вязкость, Индекс вязкости, Температура вспышки и температура воспламенения, Температура застывания, Общее кислотное число (TAN), Общее щелочное число (TBN), Окислительная устойчивость"
   ]
  },
  {
   "cell_type": "code",
   "execution_count": null,
   "metadata": {},
   "outputs": [],
   "source": [
    "df.head(5)"
   ]
  }
 ],
 "metadata": {
  "kernelspec": {
   "display_name": "Python 3 (ipykernel)",
   "language": "python",
   "name": "python3"
  },
  "language_info": {
   "codemirror_mode": {
    "name": "ipython",
    "version": 3
   },
   "file_extension": ".py",
   "mimetype": "text/x-python",
   "name": "python",
   "nbconvert_exporter": "python",
   "pygments_lexer": "ipython3",
   "version": "3.10.14"
  }
 },
 "nbformat": 4,
 "nbformat_minor": 2
}
