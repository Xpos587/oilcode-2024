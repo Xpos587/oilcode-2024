{
 "cells": [
  {
   "cell_type": "code",
   "execution_count": 1,
   "metadata": {},
   "outputs": [],
   "source": [
    "import pandas as pd\n",
    "import polars as pl\n",
    "\n",
    "\n",
    "def read(n: str, **kwargs):\n",
    "    return pl.read_csv(f\"../data/{n}\", **kwargs).to_pandas()\n",
    "\n",
    "\n",
    "smiles_data = read(\"smiles/data.csv\")\n",
    "smiles_check = read(\"smiles/check.csv\")\n",
    "params_data = read(\"params/data.csv\")\n",
    "params_check = read(\"params/check.csv\")"
   ]
  },
  {
   "cell_type": "code",
   "execution_count": 9,
   "metadata": {},
   "outputs": [],
   "source": [
    "data = params_data.loc[\n",
    "    (\n",
    "        params_data[\"oil_property_param_title\"]\n",
    "        == \"ad7e6027-00b8-4c27-918c-d1561f949ad8\"\n",
    "    )\n",
    "]"
   ]
  },
  {
   "cell_type": "code",
   "execution_count": 17,
   "metadata": {},
   "outputs": [
    {
     "data": {
      "text/plain": [
       "12565"
      ]
     },
     "execution_count": 17,
     "metadata": {},
     "output_type": "execute_result"
    }
   ],
   "source": [
    "data.dropna()"
   ]
  },
  {
   "cell_type": "code",
   "execution_count": 4,
   "metadata": {},
   "outputs": [
    {
     "name": "stdout",
     "output_type": "stream",
     "text": [
      "(341, 1387, 4.067448680351906)\n",
      "(138, 536, 3.8840579710144927)\n",
      "(348, 361981, 1040.1752873563219)\n",
      "(138, 110123, 797.9927536231884)\n"
     ]
    }
   ],
   "source": [
    "def get_bid(data: pd.DataFrame):\n",
    "    u_bid = data[\"blend_id\"].nunique()\n",
    "    rows = len(data[\"blend_id\"])\n",
    "    return (u_bid, rows, rows / u_bid)\n",
    "\n",
    "print(get_bid(smiles_data))\n",
    "print(get_bid(smiles_check))\n",
    "print(get_bid(params_data))\n",
    "print(get_bid(params_check))"
   ]
  }
 ],
 "metadata": {
  "kernelspec": {
   "display_name": "Python 3 (ipykernel)",
   "language": "python",
   "name": "python3"
  },
  "language_info": {
   "codemirror_mode": {
    "name": "ipython",
    "version": 3
   },
   "file_extension": ".py",
   "mimetype": "text/x-python",
   "name": "python",
   "nbconvert_exporter": "python",
   "pygments_lexer": "ipython3",
   "version": "3.10.14"
  }
 },
 "nbformat": 4,
 "nbformat_minor": 2
}
