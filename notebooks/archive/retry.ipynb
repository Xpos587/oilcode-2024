{
 "cells": [
  {
   "cell_type": "code",
   "execution_count": null,
   "metadata": {},
   "outputs": [],
   "source": [
    "%pip install git+https://github.com/samoturk/mol2vec -q\n",
    "%pip install 'polars[numpy,pandas,pyarrow]' -q\n",
    "%pip install rdkit -q\n",
    "%pip install matplotlib -q\n",
    "%pip install gdown -q\n",
    "%pip install scikit_learn -q\n",
    "%pip install lazypredict_nightly -q\n",
    "%pip install transformers -q\n",
    "%pip install ipywidgets -q\n",
    "%pip install torch_geometric -q\n",
    "\n",
    "!gdown 1CggX5LuLQ2nRA96SgzMYF3m4Ma7kj1ri -O models/model_300dim.pkl"
   ]
  },
  {
   "cell_type": "code",
   "execution_count": null,
   "metadata": {},
   "outputs": [],
   "source": [
    "import pandas as pd\n",
    "import polars as pl\n",
    "\n",
    "from typing import Optional\n",
    "\n",
    "from sklearn.model_selection import train_test_split\n",
    "\n",
    "\n",
    "def read(n: str, **kwargs):\n",
    "    return pl.read_csv(f\"../data/{n}\", **kwargs).to_pandas()\n",
    "\n",
    "\n",
    "data = read(\"params/data.csv\")\n",
    "check = read(\"params/check.csv\")"
   ]
  },
  {
   "cell_type": "code",
   "execution_count": null,
   "metadata": {},
   "outputs": [],
   "source": [
    "def preprocess(\n",
    "    data: pd.DataFrame\n",
    ") -> tuple[pd.DataFrame, Optional[pd.DataFrame]]:\n",
    "    data = data.copy()\n",
    "    data = data.loc[\n",
    "        (\n",
    "            data[\"oil_property_param_title\"]\n",
    "            == \"ad7e6027-00b8-4c27-918c-d1561f949ad8\"\n",
    "        )\n",
    "    ]\n",
    "    data.reset_index(drop=True, inplace=True)\n",
    "\n",
    "    if \"oil_property_param_value\" in data.columns:\n",
    "        y = data.pop(\"oil_property_param_value\")\n",
    "        return pd.DataFrame(data), pd.DataFrame(y), preprocessor\n",
    "\n",
    "    return pd.DataFrame(data), None, preprocessor\n",
    "\n",
    "\n",
    "X, y, preprocessor = preprocess(data)\n",
    "\n",
    "X_train, X_test, y_train, y_test = train_test_split(\n",
    "    X, y, test_size=0.2, random_state=42\n",
    ")\n",
    "X.head(3)"
   ]
  }
 ],
 "metadata": {
  "kernelspec": {
   "display_name": "Python 3 (ipykernel)",
   "language": "python",
   "name": "python3"
  },
  "language_info": {
   "codemirror_mode": {
    "name": "ipython",
    "version": 3
   },
   "file_extension": ".py",
   "mimetype": "text/x-python",
   "name": "python",
   "nbconvert_exporter": "python",
   "pygments_lexer": "ipython3",
   "version": "3.10.14"
  }
 },
 "nbformat": 4,
 "nbformat_minor": 2
}
